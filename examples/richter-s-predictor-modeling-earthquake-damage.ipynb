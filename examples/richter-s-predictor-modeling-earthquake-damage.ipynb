{
 "cells": [
  {
   "cell_type": "markdown",
   "metadata": {},
   "source": [
    "## ** Competition Overview**"
   ]
  },
  {
   "cell_type": "markdown",
   "metadata": {},
   "source": [
    "For this Kernel, I decided to give it a shoot at the drivendata.org competition: \"**Richter's Predictor: Modeling Earthquake Damage.**\" Based on aspects of building location and construction, your goal is to predict the level of damage to buildings caused by the 2015 Gorkha earthquake in Nepal."
   ]
  },
  {
   "cell_type": "markdown",
   "metadata": {},
   "source": [
    "<img src=\"https://s3.amazonaws.com/drivendata-public-assets/nepal-quake-bm-2.JPG\" width=\"500\">"
   ]
  },
  {
   "cell_type": "markdown",
   "metadata": {},
   "source": [
    "The data was collected through surveys by the Central Bureau of Statistics that work under the National Planning Commission Secretariat of Nepal. This survey is one of the largest post-disaster datasets ever collected, containing valuable information on earthquake impacts, household conditions, and socio-economic-demographic statistics."
   ]
  },
  {
   "cell_type": "markdown",
   "metadata": {},
   "source": [
    "## **Import Libraries**"
   ]
  },
  {
   "cell_type": "code",
   "execution_count": null,
   "metadata": {
    "_cell_guid": "b1076dfc-b9ad-4769-8c92-a6c4dae69d19",
    "_uuid": "8f2839f25d086af736a60e9eeb907d3b93b6e0e5",
    "execution": {
     "iopub.execute_input": "2021-11-15T01:14:56.092318Z",
     "iopub.status.busy": "2021-11-15T01:14:56.091969Z",
     "iopub.status.idle": "2021-11-15T01:14:56.103665Z",
     "shell.execute_reply": "2021-11-15T01:14:56.10285Z",
     "shell.execute_reply.started": "2021-11-15T01:14:56.092256Z"
    }
   },
   "outputs": [],
   "source": [
    "%matplotlib inline\n",
    "import numpy as np\n",
    "import pandas as pd\n",
    "import matplotlib.pyplot as plt\n",
    "import seaborn as sns\n",
    "from scipy.stats.mstats import winsorize\n",
    "from sklearn.metrics import f1_score as score #Scoring metric for the competition\n",
    "from sklearn.metrics import confusion_matrix\n",
    "from sklearn.ensemble import RandomForestClassifier\n",
    "from sklearn.model_selection import train_test_split, GridSearchCV\n",
    "from sklearn.tree import DecisionTreeClassifier\n",
    "import time\n",
    "import warnings\n",
    "\n",
    "warnings.filterwarnings(\"ignore\")\n",
    "pd.set_option(\"display.max_columns\",None)\n",
    "pd.set_option(\"display.max_rows\",None)\n",
    "sns.set_palette(\"Set2\")\n",
    "sns.set_style(\"ticks\")"
   ]
  },
  {
   "cell_type": "markdown",
   "metadata": {},
   "source": [
    "## **Import Data**"
   ]
  },
  {
   "cell_type": "code",
   "execution_count": null,
   "metadata": {
    "_cell_guid": "79c7e3d0-c299-4dcb-8224-4455121ee9b0",
    "_uuid": "d629ff2d2480ee46fbb7e2d37f6b5fab8052498a",
    "execution": {
     "iopub.execute_input": "2021-11-15T01:14:57.136698Z",
     "iopub.status.busy": "2021-11-15T01:14:57.136376Z",
     "iopub.status.idle": "2021-11-15T01:14:57.174691Z",
     "shell.execute_reply": "2021-11-15T01:14:57.172992Z",
     "shell.execute_reply.started": "2021-11-15T01:14:57.136649Z"
    }
   },
   "outputs": [],
   "source": [
    "train_labels = pd.read_csv(\"target_values.csv\")\n",
    "train_values = pd.read_csv(\"input_features.csv\")\n",
    "test_values = pd.read_csv(\"../input/test_values.csv\")"
   ]
  },
  {
   "cell_type": "markdown",
   "metadata": {},
   "source": [
    "# **Exploratory Data Analysis**"
   ]
  },
  {
   "cell_type": "markdown",
   "metadata": {},
   "source": [
    "Our main objectives for any Exploratory Data Analysis should be the following:\n",
    "* Check for missing values\n",
    "* Know the data type of each variable\n",
    "* Observe the distribution of the data\n",
    "* Identify and deal with outliers\n",
    "* Make relevant conclusions about the data"
   ]
  },
  {
   "cell_type": "code",
   "execution_count": null,
   "metadata": {
    "execution": {
     "iopub.execute_input": "2021-11-15T01:14:50.403627Z",
     "iopub.status.busy": "2021-11-15T01:14:50.403298Z",
     "iopub.status.idle": "2021-11-15T01:14:50.551105Z",
     "shell.execute_reply": "2021-11-15T01:14:50.549726Z",
     "shell.execute_reply.started": "2021-11-15T01:14:50.403576Z"
    }
   },
   "outputs": [],
   "source": [
    "print(\"# Train Values: {}\".format(train_values.shape))\n",
    "print(\"# Train Labels: {}\".format(train_labels.shape))\n",
    "print(\"# Test Values: {}\".format(test_values.shape))"
   ]
  },
  {
   "cell_type": "code",
   "execution_count": null,
   "metadata": {},
   "outputs": [],
   "source": [
    "train_labels.head()"
   ]
  },
  {
   "cell_type": "code",
   "execution_count": null,
   "metadata": {},
   "outputs": [],
   "source": [
    "train_values.head()"
   ]
  },
  {
   "cell_type": "code",
   "execution_count": null,
   "metadata": {},
   "outputs": [],
   "source": [
    "test_values.head()"
   ]
  },
  {
   "cell_type": "markdown",
   "metadata": {},
   "source": [
    "## **Missing Values**"
   ]
  },
  {
   "cell_type": "code",
   "execution_count": null,
   "metadata": {},
   "outputs": [],
   "source": [
    "train_values.isnull().sum() * 100 / len(train_values)"
   ]
  },
  {
   "cell_type": "code",
   "execution_count": null,
   "metadata": {},
   "outputs": [],
   "source": [
    "train_labels.isnull().sum() * 100 / len(train_values)"
   ]
  },
  {
   "cell_type": "code",
   "execution_count": null,
   "metadata": {},
   "outputs": [],
   "source": [
    "test_values.isnull().sum() * 100 / len(train_values)"
   ]
  },
  {
   "cell_type": "markdown",
   "metadata": {},
   "source": [
    "The dataset looks very clean and we don't seem to have any missing data."
   ]
  },
  {
   "cell_type": "markdown",
   "metadata": {},
   "source": [
    "## **Data Types**"
   ]
  },
  {
   "cell_type": "code",
   "execution_count": null,
   "metadata": {},
   "outputs": [],
   "source": [
    "train_values.dtypes"
   ]
  },
  {
   "cell_type": "code",
   "execution_count": null,
   "metadata": {},
   "outputs": [],
   "source": [
    "train_labels.dtypes"
   ]
  },
  {
   "cell_type": "code",
   "execution_count": null,
   "metadata": {},
   "outputs": [],
   "source": [
    "test_values.dtypes"
   ]
  },
  {
   "cell_type": "markdown",
   "metadata": {},
   "source": [
    "## **Data Distribution**"
   ]
  },
  {
   "cell_type": "markdown",
   "metadata": {},
   "source": [
    "Let's start by taking a look at how balanced our datasets really is."
   ]
  },
  {
   "cell_type": "code",
   "execution_count": null,
   "metadata": {},
   "outputs": [],
   "source": [
    "sns.countplot(x=\"damage_grade\", data=train_labels)\n",
    "plt.title(\"Damage Grade Distribution\")\n",
    "plt.show()"
   ]
  },
  {
   "cell_type": "markdown",
   "metadata": {},
   "source": [
    "From the previous plot, it is easy to see that our dataset is very imbalanced. The reason why this dataset is imbalanced could be due to the fact that the data was collected after the 2015 Nepal's Earthquake, and it is very likely that the damage grade of the buildings is highly correlated to the intensity of the earthquake. It is important to mention that decision trees and random forests are extremely sensitive to imbalanced data. "
   ]
  },
  {
   "cell_type": "code",
   "execution_count": null,
   "metadata": {},
   "outputs": [],
   "source": [
    "plt.figure(figsize=(12,6))\n",
    "sns.countplot(train_values[\"count_floors_pre_eq\"], hue=train_labels[\"damage_grade\"])\n",
    "plt.ylabel(\"Frequency\")\n",
    "plt.xlabel(\"# of Floors Before Earthquake\")\n",
    "plt.xticks(rotation=90)\n",
    "plt.title(\"# of Floors Before Earthquake Histograms\")\n",
    "plt.legend([\"damage_grade = 1\",\"damage_grade = 2\",\"damage_grade = 3\"])\n",
    "plt.show()"
   ]
  },
  {
   "cell_type": "markdown",
   "metadata": {},
   "source": [
    "There are buildings in the dataset with up to 9 floors, but the majority of the affect had only 2."
   ]
  },
  {
   "cell_type": "code",
   "execution_count": null,
   "metadata": {},
   "outputs": [],
   "source": [
    "plt.figure(figsize=(12,6))\n",
    "sns.countplot(x=train_values[\"age\"],hue=train_labels[\"damage_grade\"])\n",
    "plt.ylabel(\"Frequency\")\n",
    "plt.xlabel(\"Building's Age\")\n",
    "plt.xticks(rotation=90)\n",
    "plt.title(\"Age Histograms\")\n",
    "plt.legend([\"damage_grade = 1\",\"damage_grade = 2\",\"damage_grade = 3\"])\n",
    "plt.show()"
   ]
  },
  {
   "cell_type": "markdown",
   "metadata": {},
   "source": [
    "We have buildings around 995 years old, which at first glance seems like a error in the collection of data. After a quick Google search, I was able to determine that buildings in Nepal can be that old. Nevertheless, we still have to deal with the outliers."
   ]
  },
  {
   "cell_type": "code",
   "execution_count": null,
   "metadata": {},
   "outputs": [],
   "source": [
    "plt.figure(figsize=(18,9))\n",
    "sns.countplot(x=train_values[\"area_percentage\"],hue=train_labels[\"damage_grade\"])\n",
    "plt.ylabel(\"Frequency\")\n",
    "plt.xlabel(\"Area Percentage\")\n",
    "plt.xticks(rotation=90)\n",
    "plt.title(\"Area Percentage Histograms\")\n",
    "plt.legend([\"damage_grade = 1\",\"damage_grade = 2\",\"damage_grade = 3\"])\n",
    "plt.show()"
   ]
  },
  {
   "cell_type": "markdown",
   "metadata": {},
   "source": [
    "The normalized area of the building footprint is less than 20% for most buildings. It is important to mention that some values go up to 100%, so it is important for us to take care of the outliers of this feature."
   ]
  },
  {
   "cell_type": "code",
   "execution_count": null,
   "metadata": {},
   "outputs": [],
   "source": [
    "plt.figure(figsize=(12,6))\n",
    "sns.countplot(x=train_values[\"height_percentage\"],hue=train_labels[\"damage_grade\"])\n",
    "plt.ylabel(\"Frequency\")\n",
    "plt.xlabel(\"Height Percentage\")\n",
    "plt.xticks(rotation=90)\n",
    "plt.title(\"Height Percentage Histograms\")\n",
    "plt.legend([\"damage_grade = 1\",\"damage_grade = 2\",\"damage_grade = 3\"])\n",
    "plt.show()"
   ]
  },
  {
   "cell_type": "markdown",
   "metadata": {},
   "source": [
    "Once again, we have another variable that needs to have its outliers removed. Most of the data for this feature is less than 10%, but we have some buildings with values up to 32%."
   ]
  },
  {
   "cell_type": "code",
   "execution_count": null,
   "metadata": {},
   "outputs": [],
   "source": [
    "sns.countplot(x = train_values[\"land_surface_condition\"], hue = train_labels[\"damage_grade\"])\n",
    "plt.title(\"Land Surface Condition Distribution\")\n",
    "plt.show()"
   ]
  },
  {
   "cell_type": "markdown",
   "metadata": {},
   "source": [
    "This is a categorical variable that indicates the surface condition of the land where the building was built. Possible values: n, o, t."
   ]
  },
  {
   "cell_type": "code",
   "execution_count": null,
   "metadata": {},
   "outputs": [],
   "source": [
    "sns.countplot(x = train_values[\"foundation_type\"], hue = train_labels[\"damage_grade\"])\n",
    "plt.title(\"Foundation Type Distribution\")\n",
    "plt.show()"
   ]
  },
  {
   "cell_type": "markdown",
   "metadata": {},
   "source": [
    "This is a categorical variable that indicates the type of foundation used while building. Possible values: h, i, r, u, w."
   ]
  },
  {
   "cell_type": "code",
   "execution_count": null,
   "metadata": {},
   "outputs": [],
   "source": [
    "sns.countplot(x = train_values[\"roof_type\"], hue = train_labels[\"damage_grade\"])\n",
    "plt.title(\"Roof Type Distribution\")\n",
    "plt.show()"
   ]
  },
  {
   "cell_type": "markdown",
   "metadata": {},
   "source": [
    "This is a categorical variable that indicates the type of roof used while building. Possible values: n, q, x"
   ]
  },
  {
   "cell_type": "code",
   "execution_count": null,
   "metadata": {},
   "outputs": [],
   "source": [
    "sns.countplot(x = train_values[\"ground_floor_type\"], hue = train_labels[\"damage_grade\"])\n",
    "plt.title(\"Ground Floor Type Distribution\")\n",
    "plt.show()"
   ]
  },
  {
   "cell_type": "markdown",
   "metadata": {},
   "source": [
    "This is a categorical variable that indicates the type of the ground floor. Possible values: f, m, v, x, z."
   ]
  },
  {
   "cell_type": "code",
   "execution_count": null,
   "metadata": {},
   "outputs": [],
   "source": [
    "sns.countplot(x = train_values[\"other_floor_type\"], hue = train_labels[\"damage_grade\"])\n",
    "plt.title(\"Other Floor Type Distribution\")\n",
    "plt.show()"
   ]
  },
  {
   "cell_type": "markdown",
   "metadata": {},
   "source": [
    "This is a categorical variable that indicates the type of constructions used in higher than the ground floors (except of roof). Possible values: j, q, s, x."
   ]
  },
  {
   "cell_type": "code",
   "execution_count": null,
   "metadata": {},
   "outputs": [],
   "source": [
    "sns.countplot(x = train_values[\"position\"], hue = train_labels[\"damage_grade\"])\n",
    "plt.title(\"Position Distribution\")\n",
    "plt.show()"
   ]
  },
  {
   "cell_type": "markdown",
   "metadata": {},
   "source": [
    "This is a categorical variable that indicates the position of the building. Possible values: j, o, s, t."
   ]
  },
  {
   "cell_type": "code",
   "execution_count": null,
   "metadata": {},
   "outputs": [],
   "source": [
    "sns.countplot(x = train_values[\"plan_configuration\"], hue = train_labels[\"damage_grade\"])\n",
    "plt.title(\"Plan Configuration Distribution\")\n",
    "plt.show()"
   ]
  },
  {
   "cell_type": "markdown",
   "metadata": {},
   "source": [
    "This is a categorical variable that indicates the building plan configuration. Possible values: a, c, d, f, m, n, o, q, s, u."
   ]
  },
  {
   "cell_type": "code",
   "execution_count": null,
   "metadata": {},
   "outputs": [],
   "source": [
    "sns.countplot(x = train_values[\"has_superstructure_adobe_mud\"], hue = train_labels[\"damage_grade\"])\n",
    "plt.title(\"Has Superstructure Adobe/Mud Distribution\")\n",
    "plt.show()"
   ]
  },
  {
   "cell_type": "markdown",
   "metadata": {},
   "source": [
    "This is a flag variable that indicates if the superstructure was made of Adobe/Mud."
   ]
  },
  {
   "cell_type": "code",
   "execution_count": null,
   "metadata": {},
   "outputs": [],
   "source": [
    "sns.countplot(x = train_values[\"has_superstructure_mud_mortar_stone\"], hue = train_labels[\"damage_grade\"])\n",
    "plt.title(\"Has Superstructure Mortar/Stone Distribution\")\n",
    "plt.show()"
   ]
  },
  {
   "cell_type": "markdown",
   "metadata": {},
   "source": [
    "This is a flag variable that indicates if the superstructure was made of Mud Mortar - Stone."
   ]
  },
  {
   "cell_type": "code",
   "execution_count": null,
   "metadata": {},
   "outputs": [],
   "source": [
    "sns.countplot(x = train_values[\"has_superstructure_mud_mortar_brick\"], hue = train_labels[\"damage_grade\"])\n",
    "plt.title(\"Has Superstructure Mortar/Brick Distribution\")\n",
    "plt.show()"
   ]
  },
  {
   "cell_type": "markdown",
   "metadata": {},
   "source": [
    "This is a flag variable that indicates if the superstructure was made of Mud Mortar - Brick."
   ]
  },
  {
   "cell_type": "code",
   "execution_count": null,
   "metadata": {},
   "outputs": [],
   "source": [
    "sns.countplot(x = train_values[\"has_superstructure_cement_mortar_brick\"], hue = train_labels[\"damage_grade\"])\n",
    "plt.title(\"Has Superstructure Cement/Mortar/Brick Distribution\")\n",
    "plt.show()"
   ]
  },
  {
   "cell_type": "markdown",
   "metadata": {},
   "source": [
    "This is a flag variable that indicates if the superstructure was made of Cement Mortar - Brick."
   ]
  },
  {
   "cell_type": "code",
   "execution_count": null,
   "metadata": {},
   "outputs": [],
   "source": [
    "sns.countplot(x = train_values[\"has_superstructure_timber\"], hue = train_labels[\"damage_grade\"])\n",
    "plt.title(\"Has Superstructure Timber Distribution\")\n",
    "plt.show()"
   ]
  },
  {
   "cell_type": "markdown",
   "metadata": {},
   "source": [
    "This is a flag variable that indicates if the superstructure was made of Timber."
   ]
  },
  {
   "cell_type": "code",
   "execution_count": null,
   "metadata": {},
   "outputs": [],
   "source": [
    "sns.countplot(x = train_values[\"has_superstructure_bamboo\"], hue = train_labels[\"damage_grade\"])\n",
    "plt.title(\"Has Superstructure Bamboo Distribution\")\n",
    "plt.show()"
   ]
  },
  {
   "cell_type": "markdown",
   "metadata": {},
   "source": [
    "This is a flag variable that indicates if the superstructure was made of Bamboo."
   ]
  },
  {
   "cell_type": "code",
   "execution_count": null,
   "metadata": {},
   "outputs": [],
   "source": [
    "sns.countplot(x = train_values[\"has_superstructure_rc_non_engineered\"], hue = train_labels[\"damage_grade\"])\n",
    "plt.title(\"Has Superstructure Non-engineered Reinforced Concrete Distribution\")\n",
    "plt.show()"
   ]
  },
  {
   "cell_type": "markdown",
   "metadata": {},
   "source": [
    "This is a flag variable that indicates if the superstructure was made of non-engineered reinforced concrete."
   ]
  },
  {
   "cell_type": "code",
   "execution_count": null,
   "metadata": {},
   "outputs": [],
   "source": [
    "sns.countplot(x = train_values[\"has_superstructure_rc_engineered\"], hue = train_labels[\"damage_grade\"])\n",
    "plt.title(\"Has Superstructure Engineered Reinforced Concrete Distribution\")\n",
    "plt.show()"
   ]
  },
  {
   "cell_type": "markdown",
   "metadata": {},
   "source": [
    "This is a flag variable that indicates if the superstructure was made of engineered reinforced concrete."
   ]
  },
  {
   "cell_type": "code",
   "execution_count": null,
   "metadata": {},
   "outputs": [],
   "source": [
    "sns.countplot(x = train_values[\"has_superstructure_other\"], hue = train_labels[\"damage_grade\"])\n",
    "plt.title(\"Has Superstructure Other Distribution\")\n",
    "plt.show()"
   ]
  },
  {
   "cell_type": "markdown",
   "metadata": {},
   "source": [
    "This is a flag variable that indicates if the superstructure was made of any other material."
   ]
  },
  {
   "cell_type": "code",
   "execution_count": null,
   "metadata": {},
   "outputs": [],
   "source": [
    "sns.countplot(x = train_values[\"legal_ownership_status\"], hue = train_labels[\"damage_grade\"])\n",
    "plt.title(\"Legal Ownership Status Distribution\")\n",
    "plt.show()"
   ]
  },
  {
   "cell_type": "markdown",
   "metadata": {},
   "source": [
    "This is a categorical variable that indicates the legal ownership status of the land where building was built. Possible values: a, r, v, w."
   ]
  },
  {
   "cell_type": "code",
   "execution_count": null,
   "metadata": {},
   "outputs": [],
   "source": [
    "plt.figure(figsize=(18,9))\n",
    "sns.countplot(x=train_values[\"count_families\"],hue=train_labels[\"damage_grade\"])\n",
    "plt.ylabel(\"Frequency\")\n",
    "plt.xlabel(\"# of Families\")\n",
    "plt.xticks(rotation=90)\n",
    "plt.title(\"# of Families Histograms\")\n",
    "plt.legend([\"damage_grade = 1\",\"damage_grade = 2\",\"damage_grade = 3\"])\n",
    "plt.show()"
   ]
  },
  {
   "cell_type": "markdown",
   "metadata": {},
   "source": [
    "Most of the buildings had only 1 familiy living in them. We also have buildings were up to 9 families were living in, this buildings could be the same as those buildings with 9 floors. "
   ]
  },
  {
   "cell_type": "code",
   "execution_count": null,
   "metadata": {},
   "outputs": [],
   "source": [
    "sns.countplot(x = train_values[\"has_secondary_use\"], hue = train_labels[\"damage_grade\"])\n",
    "plt.title(\"Has Secondary Use Distribution\")\n",
    "plt.show()"
   ]
  },
  {
   "cell_type": "markdown",
   "metadata": {},
   "source": [
    "This is a flag variable that indicates if the building was used for any secondary purpose."
   ]
  },
  {
   "cell_type": "code",
   "execution_count": null,
   "metadata": {},
   "outputs": [],
   "source": [
    "sns.countplot(x = train_values[\"has_secondary_use_agriculture\"], hue = train_labels[\"damage_grade\"])\n",
    "plt.title(\"Has Secondary Use Agricultural Distribution\")\n",
    "plt.show()"
   ]
  },
  {
   "cell_type": "markdown",
   "metadata": {},
   "source": [
    "This is a flag variable that indicates if the building was used for agricultural purposes."
   ]
  },
  {
   "cell_type": "code",
   "execution_count": null,
   "metadata": {},
   "outputs": [],
   "source": [
    "sns.countplot(x = train_values[\"has_secondary_use_hotel\"], hue = train_labels[\"damage_grade\"])\n",
    "plt.title(\"Has Secondary Use Hotel Distribution\")\n",
    "plt.show()"
   ]
  },
  {
   "cell_type": "markdown",
   "metadata": {},
   "source": [
    "This is a flag variable that indicates if the building was used as a hotel."
   ]
  },
  {
   "cell_type": "code",
   "execution_count": null,
   "metadata": {},
   "outputs": [],
   "source": [
    "sns.countplot(x = train_values[\"has_secondary_use_rental\"], hue = train_labels[\"damage_grade\"])\n",
    "plt.title(\"Has Secondary Use Rental Distribution\")\n",
    "plt.show()"
   ]
  },
  {
   "cell_type": "markdown",
   "metadata": {},
   "source": [
    "This is a flag variable that indicates if the building was used for rental purposes."
   ]
  },
  {
   "cell_type": "code",
   "execution_count": null,
   "metadata": {},
   "outputs": [],
   "source": [
    "sns.countplot(x = train_values[\"has_secondary_use_institution\"], hue = train_labels[\"damage_grade\"])\n",
    "plt.title(\"Has Secondary Use Institution Distribution\")\n",
    "plt.show()"
   ]
  },
  {
   "cell_type": "markdown",
   "metadata": {},
   "source": [
    "This is a flag variable that indicates if the building was used as a location of any institution."
   ]
  },
  {
   "cell_type": "code",
   "execution_count": null,
   "metadata": {},
   "outputs": [],
   "source": [
    "sns.countplot(x = train_values[\"has_secondary_use_school\"], hue = train_labels[\"damage_grade\"])\n",
    "plt.title(\"Has Secondary Use School Distribution\")\n",
    "plt.show()"
   ]
  },
  {
   "cell_type": "markdown",
   "metadata": {},
   "source": [
    "This is a flag variable that indicates if the building was used as a school."
   ]
  },
  {
   "cell_type": "code",
   "execution_count": null,
   "metadata": {},
   "outputs": [],
   "source": [
    "sns.countplot(x = train_values[\"has_secondary_use_industry\"], hue = train_labels[\"damage_grade\"])\n",
    "plt.title(\"Has Secondary Use Industry Distribution\")\n",
    "plt.show()"
   ]
  },
  {
   "cell_type": "markdown",
   "metadata": {},
   "source": [
    "This is a flag variable that indicates if the building was used for industrial purposes."
   ]
  },
  {
   "cell_type": "code",
   "execution_count": null,
   "metadata": {},
   "outputs": [],
   "source": [
    "sns.countplot(x = train_values[\"has_secondary_use_health_post\"], hue = train_labels[\"damage_grade\"])\n",
    "plt.title(\"Has Secondary Use Health Post Distribution\")\n",
    "plt.show()"
   ]
  },
  {
   "cell_type": "markdown",
   "metadata": {},
   "source": [
    "This is a flag variable that indicates if the building was used as a health post."
   ]
  },
  {
   "cell_type": "code",
   "execution_count": null,
   "metadata": {},
   "outputs": [],
   "source": [
    "sns.countplot(x = train_values[\"has_secondary_use_gov_office\"], hue = train_labels[\"damage_grade\"])\n",
    "plt.title(\"Has Secondary Use Government Office Distribution\")\n",
    "plt.show()"
   ]
  },
  {
   "cell_type": "markdown",
   "metadata": {},
   "source": [
    "This is a flag variable that indicates if the building was used fas a government office."
   ]
  },
  {
   "cell_type": "code",
   "execution_count": null,
   "metadata": {},
   "outputs": [],
   "source": [
    "sns.countplot(x = train_values[\"has_secondary_use_use_police\"], hue = train_labels[\"damage_grade\"])\n",
    "plt.title(\"Has Secondary Use Police Distribution\")\n",
    "plt.show()"
   ]
  },
  {
   "cell_type": "markdown",
   "metadata": {},
   "source": [
    "This is a flag variable that indicates if the building was used as a police station."
   ]
  },
  {
   "cell_type": "code",
   "execution_count": null,
   "metadata": {},
   "outputs": [],
   "source": [
    "sns.countplot(x = train_values[\"has_secondary_use_other\"], hue = train_labels[\"damage_grade\"])\n",
    "plt.title(\"Has Secondary Use Other\")\n",
    "plt.show()"
   ]
  },
  {
   "cell_type": "markdown",
   "metadata": {},
   "source": [
    "This is a flag variable that indicates if the building was secondarily used for other purposes."
   ]
  },
  {
   "cell_type": "markdown",
   "metadata": {},
   "source": [
    "## **Outliers**"
   ]
  },
  {
   "cell_type": "markdown",
   "metadata": {},
   "source": [
    "Random Forests are a machine learning model based on decision trees, which are believed to perform strong even when the data contains outliers. However, this is a common misconception..."
   ]
  },
  {
   "cell_type": "code",
   "execution_count": null,
   "metadata": {},
   "outputs": [],
   "source": [
    "#Data source\n",
    "name = \"age\"\n",
    "data = train_values[name]\n",
    "\n",
    "#Before winsorization\n",
    "sns.boxplot(data)\n",
    "plt.title(\"{} Before Winsorization\".format(name))\n",
    "plt.show()\n",
    "\n",
    "#Winsorization\n",
    "winsorized_data = winsorize(data,(0, 0.05))\n",
    "\n",
    "#After winsorization\n",
    "sns.boxplot(winsorized_data)\n",
    "plt.title(\"{} After Winsorization\".format(name))\n",
    "plt.show()\n",
    "\n",
    "#Replace data in dataset\n",
    "train_values[name] = winsorized_data"
   ]
  },
  {
   "cell_type": "code",
   "execution_count": null,
   "metadata": {},
   "outputs": [],
   "source": [
    "#Data source\n",
    "name = \"area_percentage\"\n",
    "data = train_values[name]\n",
    "\n",
    "#Before winsorization\n",
    "sns.boxplot(data)\n",
    "plt.title(\"{} Before Winsorization\".format(name))\n",
    "plt.show()\n",
    "\n",
    "#Winsorization\n",
    "winsorized_data = winsorize(data,(0, 0.055))\n",
    "\n",
    "#After winsorization\n",
    "sns.boxplot(winsorized_data)\n",
    "plt.title(\"{} After Winsorization\".format(name))\n",
    "plt.show()\n",
    "\n",
    "#Replace data in dataset\n",
    "train_values[name] = winsorized_data"
   ]
  },
  {
   "cell_type": "code",
   "execution_count": null,
   "metadata": {},
   "outputs": [],
   "source": [
    "#Data source\n",
    "name = \"height_percentage\"\n",
    "data = train_values[name]\n",
    "\n",
    "#Before winsorization\n",
    "sns.boxplot(data)\n",
    "plt.title(\"{} Before Winsorization\".format(name))\n",
    "plt.show()\n",
    "\n",
    "#Winsorization\n",
    "winsorized_data = winsorize(data,(0, 0.04))\n",
    "\n",
    "#After winsorization\n",
    "sns.boxplot(winsorized_data)\n",
    "plt.title(\"{} After Winsorization\".format(name))\n",
    "plt.show()\n",
    "\n",
    "#Replace data in dataset\n",
    "train_values[name] = winsorized_data"
   ]
  },
  {
   "cell_type": "markdown",
   "metadata": {},
   "source": [
    "## **Correlations**"
   ]
  },
  {
   "cell_type": "code",
   "execution_count": null,
   "metadata": {},
   "outputs": [],
   "source": [
    "train_values.drop(columns=[\"building_id\"], inplace=True)\n",
    "train_labels.drop(columns=[\"building_id\"], inplace=True)"
   ]
  },
  {
   "cell_type": "code",
   "execution_count": null,
   "metadata": {},
   "outputs": [],
   "source": [
    "train_values = pd.get_dummies(train_values, drop_first = True)"
   ]
  },
  {
   "cell_type": "code",
   "execution_count": null,
   "metadata": {},
   "outputs": [],
   "source": [
    "plt.figure(figsize=(10,10))\n",
    "correlations = train_values.corrwith(train_labels[\"damage_grade\"])\n",
    "sns.heatmap(pd.DataFrame(correlations), annot=True)\n",
    "plt.show()"
   ]
  },
  {
   "cell_type": "markdown",
   "metadata": {},
   "source": [
    "## **Decision Tree vs. Random Forest**"
   ]
  },
  {
   "cell_type": "markdown",
   "metadata": {},
   "source": [
    "As it was previously mentioned, our dataset is very imbalanced and mainly contains *damage_grade = 2* values. Random forests and decision trees are highly sensitive to outliers, so fixing this issue should be a priority. RandomForestClassifier has a setting that let us deal with class imbalances named \"class_weight.\" By setting class_weight = \"balanced\", the classes will be automatically weighted inversely proportional to the frequency in which they appear in the dataset. After some trial and error I determined that class_weight = \"balanced\" will no yield as good results as class_weight = None, because it is very likely that the test data is imbalanced as well."
   ]
  },
  {
   "cell_type": "markdown",
   "metadata": {},
   "source": [
    "Let's now compare the score of a single decision tree against that of a random forest. For both models, I'll use the best parameters previously obtained through GridSearchCV (ran in my own machine to speed up the process). I'll use the module time to compare if the added complexity and extra calculation time of the random forest is justified by a better score."
   ]
  },
  {
   "cell_type": "code",
   "execution_count": null,
   "metadata": {},
   "outputs": [],
   "source": [
    "X = train_values\n",
    "y = train_labels\n",
    "X_train, X_test, y_train, y_test = train_test_split(X, y, test_size = 0.2, random_state = 42)\n",
    "\n",
    "#Decision Tree\n",
    "dt = DecisionTreeClassifier(max_features = None,\n",
    "                            max_depth = 45,\n",
    "                            min_samples_split = 3,\n",
    "                            min_samples_leaf = 30,\n",
    "                            random_state=42)\n",
    "start_time = time.time()\n",
    "model = dt.fit(X_train, y_train)\n",
    "dt_time_fit = time.time() - start_time\n",
    "\n",
    "#Predictions - Decision Tree\n",
    "start_time = time.time()\n",
    "model.predict(X_test)\n",
    "dt_time_pred = time.time() - start_time\n",
    "print(\"Decision Tree\")\n",
    "print(\"Fit Time: {} seconds\".format(dt_time_fit))\n",
    "print(\"Prediction Time: {} seconds\".format(dt_time_pred))\n",
    "print(\"Training Score: {}\".format(dt.score(X_train, y_train)))\n",
    "print(\"Test Score: {}\".format(dt.score(X_test, y_test)))\n",
    "print(\"----------------------------------------\")\n",
    "\n",
    "#Random Forest\n",
    "rf = RandomForestClassifier(max_features = None,\n",
    "                            max_depth = 45,\n",
    "                            min_samples_split = 3,\n",
    "                            min_samples_leaf = 30,\n",
    "                            random_state=42)\n",
    "start_time = time.time()\n",
    "model = rf.fit(X_train, y_train)\n",
    "rf_time_fit = time.time() - start_time\n",
    "\n",
    "#Predictions - Decision Tree\n",
    "start_time = time.time()\n",
    "model.predict(X_test)\n",
    "rf_time_pred = time.time() - start_time\n",
    "print(\"Random Forest\")\n",
    "print(\"Fit Time: {} seconds\".format(rf_time_fit))\n",
    "print(\"Prediction Time: {} seconds\".format(rf_time_pred))\n",
    "print(\"Training Score: {}\".format(rf.score(X_train, y_train)))\n",
    "print(\"Test Score: {}\".format(rf.score(X_test, y_test)))\n",
    "\n"
   ]
  },
  {
   "cell_type": "markdown",
   "metadata": {},
   "source": [
    "The random forest model took 7x more to be trained and 5x more to make predictions when compared to the single decision tree. The random forest performed better, but no significantly better than a single decision tree. In this scenario, 18 extra seconds of training time is not a big deal for us."
   ]
  },
  {
   "cell_type": "markdown",
   "metadata": {},
   "source": [
    "## **Confusion Matrix**"
   ]
  },
  {
   "cell_type": "code",
   "execution_count": null,
   "metadata": {},
   "outputs": [],
   "source": [
    "y_pred = rf.predict(X_test)\n",
    "\n",
    "data = confusion_matrix(y_test, y_pred)\n",
    "cm = pd.DataFrame(data, columns=np.unique(y_test), index = np.unique(y_test))\n",
    "cm.index.name = 'Actual'\n",
    "cm.columns.name = 'Predicted'\n",
    "plt.figure(figsize = (10,7))\n",
    "sns.heatmap(cm, annot=True, fmt=\"d\", annot_kws={\"size\": 12})\n",
    "plt.title(\"Confusion Matrix\")\n",
    "plt.show()"
   ]
  },
  {
   "cell_type": "markdown",
   "metadata": {},
   "source": [
    "## **Feature Importance**"
   ]
  },
  {
   "cell_type": "code",
   "execution_count": null,
   "metadata": {},
   "outputs": [],
   "source": [
    "results = list(zip(X, rf.feature_importances_))\n",
    "importance = pd.DataFrame(results, columns = [\"Feature\", \"Importance\"])\n",
    "importance = importance.sort_values(by=\"Importance\", ascending=False)\n",
    "importance"
   ]
  },
  {
   "cell_type": "code",
   "execution_count": null,
   "metadata": {},
   "outputs": [],
   "source": [
    "importance_10 = importance.head(10)\n",
    "plot = sns.barplot(x=importance_10[\"Feature\"], y=importance_10[\"Importance\"])\n",
    "plot.set_xticklabels(plot.get_xticklabels(), rotation=90)\n",
    "plt.title(\"10 Most Important Features\")\n",
    "plt.show()"
   ]
  },
  {
   "cell_type": "markdown",
   "metadata": {},
   "source": [
    "From the previous plot we can conclude that the geographic region (geo_level_1_id, geo_level_2_id, geo_level_3_id) in which a building exists, and the foundation type \"r\" are the most important features to determine the damage grade that a building will suffer during an earthquake."
   ]
  },
  {
   "cell_type": "markdown",
   "metadata": {},
   "source": [
    "## **Output File**"
   ]
  },
  {
   "cell_type": "code",
   "execution_count": null,
   "metadata": {},
   "outputs": [],
   "source": [
    "test_building_id = test_values[\"building_id\"]\n",
    "test_values.drop(columns = [\"building_id\"], inplace=True)\n",
    "\n",
    "#Outliers\n",
    "test_values[\"age\"] = winsorize(test_values[\"age\"],(0, 0.05))\n",
    "test_values[\"area_percentage\"] = winsorize(test_values[\"area_percentage\"],(0, 0.055))\n",
    "test_values[\"height_percentage\"] = winsorize(test_values[\"height_percentage\"],(0, 0.04))\n",
    "\n",
    "#Dummies\n",
    "test_values = pd.get_dummies(test_values, drop_first = True)\n",
    "\n",
    "#Predictions\n",
    "predictions = rf.predict(test_values)\n",
    "\n",
    "#Create Submission File\n",
    "submission = pd.DataFrame()\n",
    "submission[\"building_id\"] = test_building_id\n",
    "submission[\"damage_grade\"] = predictions\n",
    "submission.head()\n",
    "submission.to_csv(\"submission.csv\", index=False)"
   ]
  },
  {
   "cell_type": "code",
   "execution_count": null,
   "metadata": {},
   "outputs": [],
   "source": [
    "predictions = rf.predict(test_values)"
   ]
  },
  {
   "cell_type": "code",
   "execution_count": null,
   "metadata": {},
   "outputs": [],
   "source": [
    "submission = pd.DataFrame()\n",
    "submission[\"building_id\"] = test_building_id\n",
    "submission[\"damage_grade\"] = predictions\n",
    "submission.head()\n",
    "submission.to_csv(\"submission.csv\", index=False)"
   ]
  },
  {
   "cell_type": "markdown",
   "metadata": {},
   "source": [
    "<a href=\"submission.csv\"> Download File </a>"
   ]
  }
 ],
 "metadata": {
  "kernelspec": {
   "display_name": "Python 3",
   "language": "python",
   "name": "python3"
  },
  "language_info": {
   "codemirror_mode": {
    "name": "ipython",
    "version": 3
   },
   "file_extension": ".py",
   "mimetype": "text/x-python",
   "name": "python",
   "nbconvert_exporter": "python",
   "pygments_lexer": "ipython3",
   "version": "3.8.8"
  }
 },
 "nbformat": 4,
 "nbformat_minor": 4
}
