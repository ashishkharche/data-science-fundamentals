{
 "cells": [
  {
   "cell_type": "code",
   "execution_count": 1,
   "id": "9e002897",
   "metadata": {},
   "outputs": [
    {
     "name": "stdout",
     "output_type": "stream",
     "text": [
      "The Array\n",
      "[0 1 2 3 4 5 6 7 8 9]\n",
      "\n",
      "The new sliced array\n",
      "[1 2 3 4 5 6]\n",
      "\n",
      "The new sliced array with all elements\n",
      "[0 1 2 3 4 5 6 7 8 9]\n"
     ]
    }
   ],
   "source": [
    "import numpy as np\n",
    "\n",
    "arr = np.arange(0,10,1)\n",
    "print(\"The Array\")\n",
    "print(arr)\n",
    "\n",
    "new_arr1 = arr[1:7] # This command selects a range of elements from the array\n",
    "print(\"\\nThe new sliced array\")\n",
    "print(new_arr1)\n",
    "\n",
    "new_arr2 = arr[:] # This command selects all elements in the array\n",
    "print(\"\\nThe new sliced array with all elements\")\n",
    "print(new_arr2)"
   ]
  },
  {
   "cell_type": "code",
   "execution_count": 3,
   "id": "6ec2eaa4",
   "metadata": {},
   "outputs": [
    {
     "name": "stdout",
     "output_type": "stream",
     "text": [
      "\n",
      "The new sliced array\n",
      "[3 4 5 6 7 8 9]\n"
     ]
    }
   ],
   "source": [
    "new_arr3 = arr[3:] # This command selects a range of elements from the array\n",
    "print(\"\\nThe new sliced array\")\n",
    "print(new_arr3)"
   ]
  },
  {
   "cell_type": "code",
   "execution_count": 6,
   "id": "f26ee1f2",
   "metadata": {},
   "outputs": [
    {
     "name": "stdout",
     "output_type": "stream",
     "text": [
      "The Array\n",
      "[[1 2 3]\n",
      " [4 5 6]\n",
      " [7 8 9]]\n",
      "\n",
      "Element at row 0 and column 1\n",
      "2\n",
      "\n",
      "Elements in a range of last two rows & columns\n",
      "[[4 5]\n",
      " [7 8]]\n",
      "\n",
      "New 2D array after changing last two rows & columns values\n",
      "[[ 1  2  3]\n",
      " [ 4 20 20]\n",
      " [ 7 20 20]]\n"
     ]
    }
   ],
   "source": [
    "import numpy as np\n",
    "# Declare a 2-D array\n",
    "arr2d = np.array([\n",
    "  [1, 2, 3],\n",
    "  [4, 5, 6],\n",
    "  [7, 8, 9]\n",
    "])\n",
    "print(\"The Array\")\n",
    "print(arr2d)\n",
    "\n",
    "print(\"\\nElement at row 0 and column 1\")\n",
    "print(arr2d[0][1])\n",
    "\n",
    "print(\"\\nElements in a range of last two rows & columns\")\n",
    "print(arr2d[1:3, 0:2])\n",
    "\n",
    "arr2d[1:3, 1:3] = 20\n",
    "print(\"\\nNew 2D array after changing last two rows & columns values\")\n",
    "print(arr2d)"
   ]
  },
  {
   "cell_type": "code",
   "execution_count": 8,
   "id": "e96d2695",
   "metadata": {},
   "outputs": [
    {
     "name": "stdout",
     "output_type": "stream",
     "text": [
      "The Array\n",
      "[0 1 2 3 4 5 6 7 8 9]\n",
      "\n",
      "The new sliced array\n",
      "[1 2 3 4 5 6]\n",
      "\n",
      "The Original array\n",
      "[ 0 20 20 20 20 20 20  7  8  9]\n"
     ]
    }
   ],
   "source": [
    "import numpy as np\n",
    "\n",
    "arr = np.arange(0,10,1)\n",
    "print(\"The Array\")\n",
    "print(arr)\n",
    "\n",
    "new_arr = arr[1:7]\n",
    "print(\"\\nThe new sliced array\")\n",
    "print(new_arr)\n",
    "\n",
    "new_arr[:] = 20\n",
    "print(\"\\nThe Original array\")\n",
    "print(arr)"
   ]
  },
  {
   "cell_type": "code",
   "execution_count": 14,
   "id": "87d51175",
   "metadata": {},
   "outputs": [
    {
     "name": "stdout",
     "output_type": "stream",
     "text": [
      "[[ 0  1  2  3  4]\n",
      " [ 5  6  7  8  9]\n",
      " [10 11 12 13 14]]\n",
      "(3, 5)\n",
      "2\n",
      "int32\n",
      "4\n",
      "15\n",
      "<class 'numpy.ndarray'>\n",
      "[6 7 8]\n",
      "<class 'numpy.ndarray'>\n"
     ]
    }
   ],
   "source": [
    "import numpy as np\n",
    "a = np.arange(15).reshape(3, 5)\n",
    "print(a)\n",
    "\n",
    "# shape of a\n",
    "print(a.shape)\n",
    "\n",
    "# dimensions of a\n",
    "print(a.ndim)\n",
    "\n",
    "# data type of a\n",
    "print(a.dtype.name)\n",
    "\n",
    "# item size of a\n",
    "print(a.itemsize)\n",
    "\n",
    "# size of a\n",
    "print(a.size)\n",
    "\n",
    "# type of a\n",
    "print(type(a))\n",
    "\n",
    "b = np.array([6, 7, 8])\n",
    "\n",
    "print(b)\n",
    "\n",
    "# type of b\n",
    "print(type(b))"
   ]
  },
  {
   "cell_type": "code",
   "execution_count": 15,
   "id": "9b685885",
   "metadata": {},
   "outputs": [
    {
     "name": "stdout",
     "output_type": "stream",
     "text": [
      "[0 1 2 3 4 5 6 7 8 9]\n",
      "5\n",
      "[0 1 2 3 4 5]\n",
      "[20 20 20 20 20 20  6  7  8  9]\n"
     ]
    }
   ],
   "source": [
    "import numpy as np\n",
    "\n",
    "arr = np.arange(0,10,1) # Generate array with numbers from 0 to 9\n",
    "print(arr)\n",
    "\n",
    "print(arr[5]) # Fetch element at index 5\n",
    "\n",
    "print(arr[0:6]) # Fetch elements in a range\n",
    "\n",
    "arr[0:6] = 20 # Assign a value to a range of elements\n",
    "print(arr)"
   ]
  },
  {
   "cell_type": "code",
   "execution_count": 16,
   "id": "9c246978",
   "metadata": {},
   "outputs": [
    {
     "name": "stdout",
     "output_type": "stream",
     "text": [
      "The Array\n",
      "[[1 2 3]\n",
      " [4 5 6]\n",
      " [7 8 9]]\n",
      "\n",
      "Element at row 0 and column 1\n",
      "2\n",
      "\n",
      "Elements in a range of last two rows & columns\n",
      "[[5 6]\n",
      " [8 9]]\n",
      "\n",
      "New 2D array after changing last two rows & columns values\n",
      "[[ 1  2  3]\n",
      " [ 4 20 20]\n",
      " [ 7 20 20]]\n"
     ]
    }
   ],
   "source": [
    "import numpy as np\n",
    "# Declare a 2-D array\n",
    "arr2d = np.array([\n",
    "  [1, 2, 3],\n",
    "  [4, 5, 6],\n",
    "  [7, 8, 9]\n",
    "])\n",
    "print(\"The Array\")\n",
    "print(arr2d)\n",
    "\n",
    "print(\"\\nElement at row 0 and column 1\")\n",
    "print(arr2d[0][1])\n",
    "\n",
    "print(\"\\nElements in a range of last two rows & columns\")\n",
    "print(arr2d[1:3, 1:3])\n",
    "\n",
    "arr2d[1:3, 1:3] = 20\n",
    "print(\"\\nNew 2D array after changing last two rows & columns values\")\n",
    "print(arr2d)"
   ]
  },
  {
   "cell_type": "code",
   "execution_count": 17,
   "id": "8dcbfe56",
   "metadata": {},
   "outputs": [
    {
     "name": "stdout",
     "output_type": "stream",
     "text": [
      "[0 1 2 3 4 5 6 7 8 9]\n",
      "[1 2 3 4 5 6]\n",
      "[0 1 2 3 4 5 6 7 8 9]\n"
     ]
    }
   ],
   "source": [
    "import numpy as np\n",
    "\n",
    "arr = np.arange(0,10,1)\n",
    "print(arr)\n",
    "\n",
    "new_arr = arr[1:7].copy()\n",
    "print(new_arr)\n",
    "\n",
    "new_arr[:] = 20\n",
    "print(arr)"
   ]
  },
  {
   "cell_type": "code",
   "execution_count": 19,
   "id": "d0828060",
   "metadata": {},
   "outputs": [
    {
     "name": "stdout",
     "output_type": "stream",
     "text": [
      "[[ 0  1  2  3  4]\n",
      " [ 5  6  7  8  9]\n",
      " [10 11 12 13 14]\n",
      " [15 16 17 18 19]\n",
      " [20 21 22 23 24]\n",
      " [25 26 27 28 29]\n",
      " [30 31 32 33 34]\n",
      " [35 36 37 38 39]\n",
      " [40 41 42 43 44]\n",
      " [45 46 47 48 49]]\n",
      "[[ 0  5 10 15 20 25 30 35 40 45]\n",
      " [ 1  6 11 16 21 26 31 36 41 46]\n",
      " [ 2  7 12 17 22 27 32 37 42 47]\n",
      " [ 3  8 13 18 23 28 33 38 43 48]\n",
      " [ 4  9 14 19 24 29 34 39 44 49]]\n"
     ]
    }
   ],
   "source": [
    "import numpy as np\n",
    "# Creating 2-D array\n",
    "arr = np.arange(0,50,1).reshape(10,5) # Declare a 2-D array\n",
    "\n",
    "print(arr)\n",
    "\n",
    "print(arr.transpose()) # Print the transposed array\n",
    "#print(arr.T) # This can also be used and same result will be produced"
   ]
  },
  {
   "cell_type": "code",
   "execution_count": 22,
   "id": "977c0b47",
   "metadata": {},
   "outputs": [
    {
     "name": "stdout",
     "output_type": "stream",
     "text": [
      "[500  20 700 800]\n"
     ]
    }
   ],
   "source": [
    "import numpy as np\n",
    "# Declare 2 arrays\n",
    "arr1 = np.array([10, 20, 30, 40])\n",
    "arr2 = np.array([500, 600, 700, 800])\n",
    "\n",
    "cond = np.array([False, True, False, False]) # Create an array with bool operators\n",
    "\n",
    "res = np.where(cond, arr1, arr2) # apply the where condition\n",
    "print(res)"
   ]
  },
  {
   "cell_type": "code",
   "execution_count": 23,
   "id": "2ecbe4a7",
   "metadata": {},
   "outputs": [
    {
     "name": "stdout",
     "output_type": "stream",
     "text": [
      "The original array:\n",
      "[-0.42660496 -1.80750271 -1.14001914  0.20099781  0.24634262 -0.07960799\n",
      "  0.37277748]\n",
      "\n",
      "The array loaded from file:\n",
      "[-0.42660496 -1.80750271 -1.14001914  0.20099781  0.24634262 -0.07960799\n",
      "  0.37277748]\n"
     ]
    }
   ],
   "source": [
    "import numpy as np\n",
    "\n",
    "arr1 = np.random.randn(7)\n",
    "\n",
    "print(\"The original array:\")\n",
    "print(arr1)\n",
    "\n",
    "np.save('saved_arr',arr1) # save the array \n",
    "\n",
    "arr2 = np.load('saved_arr.npy') # load the saved array from file\n",
    "\n",
    "print(\"\\nThe array loaded from file:\")\n",
    "print(arr2)"
   ]
  },
  {
   "cell_type": "code",
   "execution_count": 24,
   "id": "4bd5c4d9",
   "metadata": {},
   "outputs": [
    {
     "name": "stdout",
     "output_type": "stream",
     "text": [
      "The original array:\n",
      "[ 0.2468156  -0.91085559 -1.49965914 -0.14782175 -0.77209722 -0.04307992\n",
      " -1.49262856]\n",
      "\n",
      "The array loaded from file:\n",
      "[ 0.2468156  -0.91085559 -1.49965914 -0.14782175 -0.77209722 -0.04307992\n",
      " -1.49262856]\n"
     ]
    }
   ],
   "source": [
    "import numpy as np\n",
    "\n",
    "arr1 = np.random.randn(7)\n",
    "\n",
    "print(\"The original array:\")\n",
    "print(arr1)\n",
    "\n",
    "np.save('saved_arr',arr1) # save the array \n",
    "\n",
    "arr2 = np.load('saved_arr.npy') # load the saved array from file\n",
    "\n",
    "print(\"\\nThe array loaded from file:\")\n",
    "print(arr2)"
   ]
  },
  {
   "cell_type": "code",
   "execution_count": 25,
   "id": "a7f21b9f",
   "metadata": {},
   "outputs": [
    {
     "name": "stdout",
     "output_type": "stream",
     "text": [
      "[[ 0  1  2  3]\n",
      " [ 4  5  6  7]\n",
      " [ 8  9 10 11]]\n"
     ]
    }
   ],
   "source": [
    "multi_1 = np.arange(12).reshape(3, 4)\n",
    "print(multi_1)"
   ]
  },
  {
   "cell_type": "markdown",
   "id": "676d5a19",
   "metadata": {},
   "source": []
  },
  {
   "cell_type": "code",
   "execution_count": 35,
   "id": "5044ca02",
   "metadata": {},
   "outputs": [
    {
     "name": "stdout",
     "output_type": "stream",
     "text": [
      "The Original Array:\n",
      "[[25 67 71 45 61]\n",
      " [56 16 53 36 47]\n",
      " [64 10 85 27 74]\n",
      " [42  6 16 41 21]\n",
      " [44 60 54 39 87]]\n",
      "\n",
      "The Resultnt list with min & max values:\n",
      "[25, 71, 16, 56, 10, 85, 6, 42, 39, 87]\n"
     ]
    }
   ],
   "source": [
    "def getMinMax(arr):\n",
    "  \n",
    "  res = []\n",
    "  \n",
    "  for i in range(arr.shape[0]): # Traverse over each row\n",
    "    \n",
    "    res.append(arr[i].min()) # Store minimum element in list\n",
    "    \n",
    "    res.append(arr[i].max()) # Store maximum element in list\n",
    "    \n",
    "  return res\n",
    "\n",
    "# Test Code\n",
    "arr = np.random.randint(1,100, size=(5,5))\n",
    "\n",
    "print(\"The Original Array:\")\n",
    "print(arr)\n",
    "\n",
    "res_arr = getMinMax(arr)\n",
    "\n",
    "print(\"\\nThe Resultnt list with min & max values:\")\n",
    "print(res_arr)"
   ]
  },
  {
   "cell_type": "code",
   "execution_count": null,
   "id": "4d49c3b3",
   "metadata": {},
   "outputs": [],
   "source": []
  }
 ],
 "metadata": {
  "kernelspec": {
   "display_name": "Python 3",
   "language": "python",
   "name": "python3"
  },
  "language_info": {
   "codemirror_mode": {
    "name": "ipython",
    "version": 3
   },
   "file_extension": ".py",
   "mimetype": "text/x-python",
   "name": "python",
   "nbconvert_exporter": "python",
   "pygments_lexer": "ipython3",
   "version": "3.8.8"
  }
 },
 "nbformat": 4,
 "nbformat_minor": 5
}
