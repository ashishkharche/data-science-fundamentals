{
 "cells": [
  {
   "cell_type": "code",
   "execution_count": null,
   "id": "11a9c6f0",
   "metadata": {},
   "outputs": [],
   "source": [
    "# Source: https://www.educative.io/courses/grokking-data-science/7DwjVPEX5zB#Q1.Create-a-null-vector-(all-zeros)-of-size-10-and-set-it-in-the-variable-called-%E2%80%9CZ%E2%80%9D."
   ]
  },
  {
   "cell_type": "code",
   "execution_count": 3,
   "id": "f0a4c301",
   "metadata": {},
   "outputs": [],
   "source": [
    "# Q1.Create a null vector (all zeros) of size 10 and set it in the variable called “Z”.\n",
    "\n",
    "import numpy as np\n",
    "\n",
    "Z = np.zeros(10)\n",
    "\n",
    "print(Z)"
   ]
  },
  {
   "cell_type": "code",
   "execution_count": 6,
   "id": "9a341e32",
   "metadata": {},
   "outputs": [
    {
     "name": "stdout",
     "output_type": "stream",
     "text": [
      "[0 1 2 3 4 5 6 7 8 9]\n"
     ]
    }
   ],
   "source": [
    "# Q2. Create a 1D array of numbers from 0 to 9 and set it in the variable called “arr”.#\n",
    "\n",
    "arr = np.arange(10)\n",
    "\n",
    "print(arr)"
   ]
  },
  {
   "cell_type": "code",
   "execution_count": 7,
   "id": "21a96589",
   "metadata": {},
   "outputs": [
    {
     "name": "stdout",
     "output_type": "stream",
     "text": [
      "[[[0.9137622  0.76213568 0.92242305]\n",
      "  [0.17377252 0.42835266 0.63457745]\n",
      "  [0.24839539 0.45877358 0.51250482]]\n",
      "\n",
      " [[0.88388927 0.1894812  0.13588692]\n",
      "  [0.72945001 0.96960075 0.16052985]\n",
      "  [0.93815795 0.85797712 0.78597361]]\n",
      "\n",
      " [[0.29844697 0.12837745 0.90868013]\n",
      "  [0.70254756 0.80658906 0.17146041]\n",
      "  [0.08242925 0.99077979 0.60047406]]]\n"
     ]
    }
   ],
   "source": [
    "# Q3. Create a 3x3x3 array with random values and set it in the variable called “arr”.#\n",
    "\n",
    "arr = np.random.random((3, 3, 3))\n",
    "\n",
    "print(arr)\n"
   ]
  },
  {
   "cell_type": "code",
   "execution_count": 12,
   "id": "e447949e",
   "metadata": {},
   "outputs": [
    {
     "name": "stdout",
     "output_type": "stream",
     "text": [
      "[[0.9488397  0.07325509 0.61011918 0.51552205 0.18552096 0.80631888\n",
      "  0.82492462 0.47220082 0.80516702 0.81549676]\n",
      " [0.7083394  0.67870743 0.41857524 0.27169014 0.29324522 0.45953268\n",
      "  0.38042216 0.24608952 0.46584982 0.37592025]\n",
      " [0.41820888 0.42906594 0.50764766 0.10814499 0.34453134 0.62003876\n",
      "  0.93409448 0.67698509 0.06007226 0.28254853]\n",
      " [0.60000309 0.75696967 0.29216004 0.32301928 0.83429323 0.94878644\n",
      "  0.6168014  0.31478588 0.6465362  0.33686043]\n",
      " [0.53898945 0.03759763 0.55866364 0.65351047 0.77619927 0.8323576\n",
      "  0.38765901 0.55509148 0.32824244 0.51571842]\n",
      " [0.44119086 0.83869531 0.19454467 0.18546749 0.57292453 0.11081384\n",
      "  0.16030879 0.92274275 0.5035002  0.43112373]\n",
      " [0.77280981 0.17273577 0.70727213 0.33664334 0.5284335  0.42938409\n",
      "  0.11422261 0.19702566 0.0057941  0.85294664]\n",
      " [0.90824757 0.83248155 0.53119938 0.28198507 0.20781755 0.24308748\n",
      "  0.83361492 0.08208955 0.93801842 0.08940265]\n",
      " [0.12375177 0.40145396 0.69268025 0.60399485 0.17656581 0.87314455\n",
      "  0.98874864 0.849217   0.49816189 0.5680512 ]\n",
      " [0.53498924 0.44037959 0.5979749  0.64860189 0.68187091 0.65782484\n",
      "  0.76806467 0.22237645 0.2175038  0.77277595]]\n",
      "0.005794098638702616\n",
      "0.9887486359795156\n"
     ]
    }
   ],
   "source": [
    "# Q4. Create a 10x10 array with random values called “arr4”. Find its minimum and maximum values and set them in the variables called “min_val” and “max_val” respectively.#\n",
    "\n",
    "arr4 = np.random.random((10, 10))\n",
    "\n",
    "print(arr4)\n",
    "\n",
    "min_val = arr4.min()\n",
    "print(min_val)\n",
    "\n",
    "max_val = arr4.max()\n",
    "print(max_val)"
   ]
  },
  {
   "cell_type": "code",
   "execution_count": 17,
   "id": "0813a22f",
   "metadata": {},
   "outputs": [
    {
     "name": "stdout",
     "output_type": "stream",
     "text": [
      "[[1 2 3]\n",
      " [4 5 6]\n",
      " [7 8 9]]\n"
     ]
    }
   ],
   "source": [
    "# Q5. First create a 1D array with numbers from 1 to 9 and then convert it into a 3x3 grid. Store the final answer in the variable called “grid”.#\n",
    "\n",
    "grid = np.arange(1, 10).reshape((3, 3))\n",
    "print(grid)"
   ]
  },
  {
   "cell_type": "code",
   "execution_count": 19,
   "id": "305aed0b",
   "metadata": {},
   "outputs": [
    {
     "name": "stdout",
     "output_type": "stream",
     "text": [
      "[0 1 2 3 4 5 6 7 8 9]\n",
      "[ 0  1  2  3  4  5  6  7  8 -1]\n"
     ]
    }
   ],
   "source": [
    "# Q6. Replace the maximum value in the given vector, “arr6”, with -1.#\n",
    "\n",
    "arr6 = np.arange(10)\n",
    "\n",
    "print(arr6)\n",
    "\n",
    "arr6[arr6.argmax()] = -1\n",
    "\n",
    "print(arr6)"
   ]
  },
  {
   "cell_type": "code",
   "execution_count": 21,
   "id": "216403cd",
   "metadata": {
    "scrolled": true
   },
   "outputs": [
    {
     "name": "stdout",
     "output_type": "stream",
     "text": [
      "[[0 1 2]\n",
      " [3 4 5]\n",
      " [6 7 8]]\n",
      "[[6 7 8]\n",
      " [3 4 5]\n",
      " [0 1 2]]\n"
     ]
    }
   ],
   "source": [
    "# Q7. Reverse the rows of the given 2D array, “arr7”.#\n",
    "\n",
    "arr7 = np.arange(9).reshape(3, 3)\n",
    "\n",
    "print(arr7)\n",
    "\n",
    "arr7 = arr7[::-1]\n",
    "\n",
    "print(arr7)"
   ]
  },
  {
   "cell_type": "code",
   "execution_count": 23,
   "id": "e2371832",
   "metadata": {},
   "outputs": [
    {
     "name": "stdout",
     "output_type": "stream",
     "text": [
      "[[0.26252992 0.92624885 0.98454988 0.24948252 0.52030633 0.42711864\n",
      "  0.83240221 0.60653126 0.40018044 0.67031281]\n",
      " [0.00570778 0.78356954 0.97359644 0.58172841 0.31149499 0.25042862\n",
      "  0.75590062 0.35532588 0.47440492 0.68427875]\n",
      " [0.85371065 0.14410691 0.33712462 0.43694849 0.54451509 0.49455622\n",
      "  0.81494113 0.44534323 0.42033137 0.18519379]]\n",
      "[[0.58796629]\n",
      " [0.5176436 ]\n",
      " [0.46767715]]\n"
     ]
    }
   ],
   "source": [
    "# Q8. Subtract the mean of each row of the given 2D array, “arr8”, from the values in the array. Set the updated array in “transformed_arr8”.#\n",
    "\n",
    "arr8 = np.random.rand(3, 10)\n",
    "\n",
    "print(arr8)\n",
    "\n",
    "transformed_arr8 = arr8 = arr8.mean(axis=1, keepdims=True)\n",
    "\n",
    "print(transformed_arr8)"
   ]
  },
  {
   "cell_type": "code",
   "execution_count": null,
   "id": "3ad7fb4a",
   "metadata": {},
   "outputs": [],
   "source": []
  },
  {
   "cell_type": "code",
   "execution_count": null,
   "id": "b99160fa",
   "metadata": {},
   "outputs": [],
   "source": []
  }
 ],
 "metadata": {
  "kernelspec": {
   "display_name": "Python 3",
   "language": "python",
   "name": "python3"
  },
  "language_info": {
   "codemirror_mode": {
    "name": "ipython",
    "version": 3
   },
   "file_extension": ".py",
   "mimetype": "text/x-python",
   "name": "python",
   "nbconvert_exporter": "python",
   "pygments_lexer": "ipython3",
   "version": "3.8.8"
  }
 },
 "nbformat": 4,
 "nbformat_minor": 5
}
