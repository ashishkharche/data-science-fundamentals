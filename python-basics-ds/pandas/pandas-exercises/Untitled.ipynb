{
 "cells": [
  {
   "cell_type": "code",
   "execution_count": 1,
   "id": "c016030d",
   "metadata": {},
   "outputs": [],
   "source": [
    "import pandas as pd"
   ]
  },
  {
   "cell_type": "code",
   "execution_count": 10,
   "id": "fd723a02",
   "metadata": {
    "scrolled": true
   },
   "outputs": [
    {
     "name": "stdout",
     "output_type": "stream",
     "text": [
      "           Artist Genre  Listeners\n",
      "AG  Ariana Grande  Jazz    1300000\n",
      "TS   Taylor Swift  Rock    2700000\n",
      "ED     Ed Sheeran  Jazz    5000000\n",
      "JB  Justin Bieber   Pop    2000000\n",
      "LG      Lady Gaga   Pop    3000000\n",
      "BM     Bruno Mars  Rock    1100000\n"
     ]
    }
   ],
   "source": [
    "# Q1. Create a DataFrame from the given dictionary data and index labels and store it in the variable called “df”.#\n",
    "\n",
    "import pandas as pd\n",
    "\n",
    "# Input \n",
    "data = {'Artist': ['Ariana Grande', 'Taylor Swift', 'Ed Sheeran', 'Justin Bieber', 'Lady Gaga', 'Bruno Mars'],\n",
    "        'Genre': ['Jazz', 'Rock', 'Jazz', 'Pop', 'Pop', 'Rock'],\n",
    "        'Listeners': [1300000, 2700000, 5000000, 2000000, 3000000, 1100000]}\n",
    "\n",
    "labels = ['AG', 'TS', 'ED', 'JB', 'LG', 'BM']\n",
    "\n",
    "# Your solution goes here\n",
    "\n",
    "df = pd.DataFrame(data, index=labels)\n",
    "print(df)"
   ]
  },
  {
   "cell_type": "code",
   "execution_count": 16,
   "id": "10a4e06f",
   "metadata": {},
   "outputs": [
    {
     "name": "stdout",
     "output_type": "stream",
     "text": [
      "AG    1300000\n",
      "TS    2700000\n",
      "ED    5000000\n",
      "JB    2000000\n",
      "LG    3000000\n",
      "BM    1100000\n",
      "Name: Listeners, dtype: int64\n",
      "Row: Artist       Ariana Grande\n",
      "Genre                 Jazz\n",
      "Listeners          1300000\n",
      "Name: AG, dtype: object\n"
     ]
    }
   ],
   "source": [
    "# Q2. a) Select the column labelled “Listeners” and store it in the variable called “col”. b) Select the first row and store it in the variable called “row”.#\n",
    "\n",
    "row = df.iloc[0] # or df.loc['AG']\n",
    "col = df['Listeners']\n",
    "\n",
    "print(col)\n",
    "\n",
    "print(\"Row:\", row)"
   ]
  },
  {
   "cell_type": "code",
   "execution_count": 18,
   "id": "81fd1199",
   "metadata": {},
   "outputs": [
    {
     "data": {
      "text/html": [
       "<div>\n",
       "<style scoped>\n",
       "    .dataframe tbody tr th:only-of-type {\n",
       "        vertical-align: middle;\n",
       "    }\n",
       "\n",
       "    .dataframe tbody tr th {\n",
       "        vertical-align: top;\n",
       "    }\n",
       "\n",
       "    .dataframe thead th {\n",
       "        text-align: right;\n",
       "    }\n",
       "</style>\n",
       "<table border=\"1\" class=\"dataframe\">\n",
       "  <thead>\n",
       "    <tr style=\"text-align: right;\">\n",
       "      <th></th>\n",
       "      <th>Artist</th>\n",
       "      <th>Genre</th>\n",
       "      <th>Listeners</th>\n",
       "    </tr>\n",
       "  </thead>\n",
       "  <tbody>\n",
       "    <tr>\n",
       "      <th>JB</th>\n",
       "      <td>Justin Bieber</td>\n",
       "      <td>Pop</td>\n",
       "      <td>2000000</td>\n",
       "    </tr>\n",
       "    <tr>\n",
       "      <th>LG</th>\n",
       "      <td>Lady Gaga</td>\n",
       "      <td>Pop</td>\n",
       "      <td>3000000</td>\n",
       "    </tr>\n",
       "  </tbody>\n",
       "</table>\n",
       "</div>"
      ],
      "text/plain": [
       "           Artist Genre  Listeners\n",
       "JB  Justin Bieber   Pop    2000000\n",
       "LG      Lady Gaga   Pop    3000000"
      ]
     },
     "execution_count": 18,
     "metadata": {},
     "output_type": "execute_result"
    }
   ],
   "source": [
    "# Q3. Select all the rows where the Genre is ‘Pop’ and store the result in the variable “pop_artists”.#\n",
    "\n",
    "pop_artists = df[df['Genre'] == 'Pop']\n",
    "pop_artists.head()"
   ]
  },
  {
   "cell_type": "code",
   "execution_count": 21,
   "id": "0d58947c",
   "metadata": {},
   "outputs": [
    {
     "data": {
      "text/html": [
       "<div>\n",
       "<style scoped>\n",
       "    .dataframe tbody tr th:only-of-type {\n",
       "        vertical-align: middle;\n",
       "    }\n",
       "\n",
       "    .dataframe tbody tr th {\n",
       "        vertical-align: top;\n",
       "    }\n",
       "\n",
       "    .dataframe thead th {\n",
       "        text-align: right;\n",
       "    }\n",
       "</style>\n",
       "<table border=\"1\" class=\"dataframe\">\n",
       "  <thead>\n",
       "    <tr style=\"text-align: right;\">\n",
       "      <th></th>\n",
       "      <th>Artist</th>\n",
       "      <th>Genre</th>\n",
       "      <th>Listeners</th>\n",
       "    </tr>\n",
       "  </thead>\n",
       "  <tbody>\n",
       "    <tr>\n",
       "      <th>LG</th>\n",
       "      <td>Lady Gaga</td>\n",
       "      <td>Pop</td>\n",
       "      <td>3000000</td>\n",
       "    </tr>\n",
       "  </tbody>\n",
       "</table>\n",
       "</div>"
      ],
      "text/plain": [
       "       Artist Genre  Listeners\n",
       "LG  Lady Gaga   Pop    3000000"
      ]
     },
     "execution_count": 21,
     "metadata": {},
     "output_type": "execute_result"
    }
   ],
   "source": [
    "# Q4. Select the artists who have more than 2,000,000 listeners and whose Genre is ‘Pop’ and save the output in the variable called “top_pop”.#\n",
    "\n",
    "top_pop = df[(df['Listeners'] > 2000000) & (df['Genre'] == 'Pop')]\n",
    "\n",
    "top_pop.head()"
   ]
  },
  {
   "cell_type": "code",
   "execution_count": 27,
   "id": "c99b0dea",
   "metadata": {},
   "outputs": [
    {
     "data": {
      "text/html": [
       "<div>\n",
       "<style scoped>\n",
       "    .dataframe tbody tr th:only-of-type {\n",
       "        vertical-align: middle;\n",
       "    }\n",
       "\n",
       "    .dataframe tbody tr th {\n",
       "        vertical-align: top;\n",
       "    }\n",
       "\n",
       "    .dataframe thead th {\n",
       "        text-align: right;\n",
       "    }\n",
       "</style>\n",
       "<table border=\"1\" class=\"dataframe\">\n",
       "  <thead>\n",
       "    <tr style=\"text-align: right;\">\n",
       "      <th></th>\n",
       "      <th>Listeners</th>\n",
       "    </tr>\n",
       "    <tr>\n",
       "      <th>Genre</th>\n",
       "      <th></th>\n",
       "    </tr>\n",
       "  </thead>\n",
       "  <tbody>\n",
       "    <tr>\n",
       "      <th>Jazz</th>\n",
       "      <td>6300000</td>\n",
       "    </tr>\n",
       "    <tr>\n",
       "      <th>Pop</th>\n",
       "      <td>5000000</td>\n",
       "    </tr>\n",
       "    <tr>\n",
       "      <th>Rock</th>\n",
       "      <td>3800000</td>\n",
       "    </tr>\n",
       "  </tbody>\n",
       "</table>\n",
       "</div>"
      ],
      "text/plain": [
       "       Listeners\n",
       "Genre           \n",
       "Jazz     6300000\n",
       "Pop      5000000\n",
       "Rock     3800000"
      ]
     },
     "execution_count": 27,
     "metadata": {},
     "output_type": "execute_result"
    }
   ],
   "source": [
    "# Q5. Perform a grouping by Genre using sum() as the aggregation function and store the results in the variable called “grouped”.#\n",
    "\n",
    "grouped = df.groupby('Genre').sum()\n",
    "grouped"
   ]
  },
  {
   "cell_type": "code",
   "execution_count": null,
   "id": "e23d3e62",
   "metadata": {},
   "outputs": [],
   "source": []
  }
 ],
 "metadata": {
  "kernelspec": {
   "display_name": "Python 3",
   "language": "python",
   "name": "python3"
  },
  "language_info": {
   "codemirror_mode": {
    "name": "ipython",
    "version": 3
   },
   "file_extension": ".py",
   "mimetype": "text/x-python",
   "name": "python",
   "nbconvert_exporter": "python",
   "pygments_lexer": "ipython3",
   "version": "3.8.8"
  }
 },
 "nbformat": 4,
 "nbformat_minor": 5
}
