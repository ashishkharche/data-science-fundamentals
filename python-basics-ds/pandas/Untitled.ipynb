{
 "cells": [
  {
   "cell_type": "code",
   "execution_count": 2,
   "id": "732896f0",
   "metadata": {},
   "outputs": [
    {
     "name": "stdout",
     "output_type": "stream",
     "text": [
      "0    0\n",
      "1    1\n",
      "2    2\n",
      "3    3\n",
      "dtype: int64\n"
     ]
    }
   ],
   "source": [
    "import pandas as pd\n",
    "\n",
    "series = pd.Series([0, 1, 2, 3])\n",
    "\n",
    "print(series)"
   ]
  },
  {
   "cell_type": "code",
   "execution_count": 6,
   "id": "f18ec4a8",
   "metadata": {},
   "outputs": [
    {
     "name": "stdout",
     "output_type": "stream",
     "text": [
      "Value for apples:  10 \n",
      "\n",
      "bananas         3222\n",
      "strawberries     210\n",
      "dtype: int64\n"
     ]
    }
   ],
   "source": [
    "import pandas as pd \n",
    "\n",
    "fruits_dict = { 'apples': 10,\n",
    "                'oranges': 338,\n",
    "                'bananas': 3222,\n",
    "                'strawberries': 210}\n",
    "\n",
    "fruits = pd.Series(fruits_dict)\n",
    "print(\"Value for apples: \", fruits['apples'], \"\\n\")\n",
    "\n",
    "# Series also supports array-style operations such as slicing:\n",
    "print(fruits['bananas':'strawberries'])"
   ]
  },
  {
   "cell_type": "code",
   "execution_count": 9,
   "id": "dfb14b48",
   "metadata": {},
   "outputs": [
    {
     "name": "stdout",
     "output_type": "stream",
     "text": [
      "              quantity\n",
      "apples              12\n",
      "bananas             24\n",
      "strawberries        33\n",
      "oranges             15\n"
     ]
    }
   ],
   "source": [
    "import pandas as pd \n",
    "\n",
    "data_s1 = pd.Series([12, 24, 33, 15], \n",
    "           index=['apples', 'bananas', 'strawberries', 'oranges'])\n",
    "\n",
    "# 'quantity' is the name for our column\n",
    "dataframe1 = pd.DataFrame(data_s1, columns=['quantity'])\n",
    "print(dataframe1)"
   ]
  },
  {
   "cell_type": "code",
   "execution_count": 10,
   "id": "e079c002",
   "metadata": {},
   "outputs": [
    {
     "name": "stdout",
     "output_type": "stream",
     "text": [
      "  country    capital SomeColumn\n",
      "0  Norway       Oslo        100\n",
      "1  Sweden  Stockholm        200\n",
      "2   Spain     Madrid        300\n",
      "3  France      Paris        400\n"
     ]
    }
   ],
   "source": [
    "dict = {\"country\": [\"Norway\", \"Sweden\", \"Spain\", \"France\"],\n",
    "       \"capital\": [\"Oslo\", \"Stockholm\", \"Madrid\", \"Paris\"],\n",
    "       \"SomeColumn\": [\"100\", \"200\", \"300\", \"400\"]}\n",
    "\n",
    "data = pd.DataFrame(dict)\n",
    "print(data)"
   ]
  },
  {
   "cell_type": "code",
   "execution_count": 11,
   "id": "5895b29f",
   "metadata": {},
   "outputs": [
    {
     "name": "stdout",
     "output_type": "stream",
     "text": [
      "              quantity  price\n",
      "apples              12    4.0\n",
      "bananas             24    4.5\n",
      "strawberries        33    8.0\n",
      "oranges             15    7.5\n"
     ]
    }
   ],
   "source": [
    "import pandas as pd \n",
    "\n",
    "quantity = pd.Series([12, 24, 33, 15], \n",
    "           index=['apples', 'bananas', 'strawberries', 'oranges'])\n",
    "\n",
    "price = pd.Series([4, 4.5, 8, 7.5], \n",
    "           index=['apples', 'bananas', 'strawberries', 'oranges'])\n",
    "           \n",
    "df = pd.DataFrame({'quantity': quantity,\n",
    "                    'price': price})\n",
    "print(df)"
   ]
  },
  {
   "cell_type": "code",
   "execution_count": null,
   "id": "173266b3",
   "metadata": {},
   "outputs": [],
   "source": []
  }
 ],
 "metadata": {
  "kernelspec": {
   "display_name": "Python 3",
   "language": "python",
   "name": "python3"
  },
  "language_info": {
   "codemirror_mode": {
    "name": "ipython",
    "version": 3
   },
   "file_extension": ".py",
   "mimetype": "text/x-python",
   "name": "python",
   "nbconvert_exporter": "python",
   "pygments_lexer": "ipython3",
   "version": "3.8.8"
  }
 },
 "nbformat": 4,
 "nbformat_minor": 5
}
